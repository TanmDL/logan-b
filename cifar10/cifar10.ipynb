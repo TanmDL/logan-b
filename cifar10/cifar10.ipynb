{
 "cells": [
  {
   "cell_type": "code",
   "execution_count": null,
   "metadata": {},
   "outputs": [],
   "source": [
    "import os\n",
    "import torch\n",
    "import torch.nn as nn\n",
    "import torch.optim as optim\n",
    "import pickle\n",
    "import numpy as np\n",
    "import matplotlib.pyplot as plt\n",
    "from torch.utils.data import TensorDataset, DataLoader\n",
    "from torchvision.datasets import CIFAR10\n",
    "from torchvision.transforms import Compose, ToTensor, Resize, Normalize\n",
    "from torchvision.utils import save_image"
   ]
  },
  {
   "cell_type": "code",
   "execution_count": null,
   "metadata": {},
   "outputs": [],
   "source": [
    "class Discriminator(nn.Module):\n",
    "    def __init__(self, nc=1, ld=100):\n",
    "        super(Discriminator, self).__init__()\n",
    "        self.seq_z = nn.Sequential(\n",
    "            nn.Flatten(3),\n",
    "            \n",
    "            nn.ConvTranspose2d(ld, 512, 2, 2, 0),\n",
    "            nn.BatchNorm2d(512),\n",
    "            nn.LeakyReLU(0.2, inplace=True),\n",
    "            \n",
    "            nn.ConvTranspose2d(512, 512, 2, 2, 0),\n",
    "            nn.BatchNorm2d(512),\n",
    "            nn.LeakyReLU(0.2, inplace=True),\n",
    "        )\n",
    "        \n",
    "        self.seq_x = nn.Sequential(\n",
    "            nn.Conv2d(nc, 128, 4, 2, 1),\n",
    "            nn.BatchNorm2d(128),\n",
    "            nn.LeakyReLU(0.2, inplace=True),\n",
    "            \n",
    "            nn.Conv2d(128, 256, 4, 2, 1),\n",
    "            nn.BatchNorm2d(256),\n",
    "            nn.LeakyReLU(0.2, inplace=True),\n",
    "            \n",
    "            nn.Conv2d(256, 512, 4, 2, 1),\n",
    "            nn.BatchNorm2d(512),\n",
    "            nn.LeakyReLU(0.2, inplace=True),\n",
    "            \n",
    "            #nn.Conv2d(512, 1024, 4, 2, 1),\n",
    "            #nn.BatchNorm2d(1024),\n",
    "            #nn.LeakyReLU(0.2, inplace=True),\n",
    "        )\n",
    "        \n",
    "        self.seq_xz = nn.Sequential(\n",
    "            nn.Conv2d(512, 1, 4),\n",
    "            nn.Flatten(),\n",
    "            nn.Sigmoid()\n",
    "        )\n",
    "    def forward(self, x, z):\n",
    "        x = self.seq_x(x)\n",
    "        z = self.seq_z(z)\n",
    "        return self.seq_xz(x+z)"
   ]
  },
  {
   "cell_type": "code",
   "execution_count": null,
   "metadata": {},
   "outputs": [],
   "source": [
    "class Generator(nn.Module):\n",
    "    def __init__(self, nc=1, ld=100):\n",
    "        super(Generator, self).__init__()\n",
    "        self.seq = nn.Sequential(\n",
    "            #nn.ConvTranspose2d(ld, 1024, 4, 2, 0),\n",
    "            #nn.BatchNorm2d(1024),\n",
    "            #nn.ReLU(inplace=True),\n",
    "            \n",
    "            nn.ConvTranspose2d(ld, 512, 4, 2, 0),\n",
    "            nn.BatchNorm2d(512),\n",
    "            nn.ReLU(inplace=True),\n",
    "            \n",
    "            nn.ConvTranspose2d(512, 256, 4, 2, 1),\n",
    "            nn.BatchNorm2d(256),\n",
    "            nn.ReLU(inplace=True),\n",
    "            \n",
    "            nn.ConvTranspose2d(256, 128, 4, 2, 1),\n",
    "            nn.BatchNorm2d(128),\n",
    "            nn.ReLU(inplace=True),\n",
    "            \n",
    "            nn.ConvTranspose2d(128, nc, 4, 2, 1),\n",
    "            nn.Tanh()\n",
    "        )\n",
    "    def forward(self, x):\n",
    "        return self.seq(x)"
   ]
  },
  {
   "cell_type": "code",
   "execution_count": null,
   "metadata": {},
   "outputs": [],
   "source": [
    "class Encoder(nn.Module):\n",
    "    def __init__(self, nc=1, ld=100):\n",
    "        super(Encoder, self).__init__()\n",
    "        self.seq = nn.Sequential(\n",
    "            nn.Conv2d(nc, 128, 4, 2, 1),\n",
    "            nn.BatchNorm2d(128),\n",
    "            nn.ReLU(inplace=True),\n",
    "            \n",
    "            nn.Conv2d(128, 256, 4, 2, 1),\n",
    "            nn.BatchNorm2d(256),\n",
    "            nn.ReLU(inplace=True),\n",
    "            \n",
    "            nn.Conv2d(256, 512, 4, 2, 1),\n",
    "            nn.BatchNorm2d(512),\n",
    "            nn.ReLU(inplace=True),\n",
    "            \n",
    "            #nn.Conv2d(512, 1024, 4, 2, 1),\n",
    "            #nn.BatchNorm2d(1024),\n",
    "            #nn.ReLU(inplace=True),\n",
    "            \n",
    "            #nn.Conv2d(1024, ld, 4),\n",
    "            nn.Conv2d(512, ld, 4),\n",
    "            nn.Tanh()\n",
    "        )\n",
    "    def forward(self, x):\n",
    "        return self.seq(x)"
   ]
  },
  {
   "cell_type": "code",
   "execution_count": null,
   "metadata": {},
   "outputs": [],
   "source": [
    "torch.manual_seed(0)"
   ]
  },
  {
   "cell_type": "code",
   "execution_count": null,
   "metadata": {},
   "outputs": [],
   "source": [
    "device = 'cuda'\n",
    "num_channels, latent_dim = 3, 100"
   ]
  },
  {
   "cell_type": "code",
   "execution_count": null,
   "metadata": {},
   "outputs": [],
   "source": [
    "dataset = CIFAR10(root='.', download=True, transform=Compose([Resize(32), ToTensor(), Normalize((0.5,0.5,0.5),(0.5,0.5,0.5))]))\n",
    "dataloader = DataLoader(dataset, batch_size=256, shuffle=True)"
   ]
  },
  {
   "cell_type": "code",
   "execution_count": null,
   "metadata": {},
   "outputs": [],
   "source": [
    "G = Generator(nc=num_channels, ld=latent_dim).to(device)\n",
    "D = Discriminator(nc=num_channels, ld=latent_dim).to(device)\n",
    "E = Encoder(nc=num_channels, ld=latent_dim).to(device)"
   ]
  },
  {
   "cell_type": "code",
   "execution_count": null,
   "metadata": {},
   "outputs": [],
   "source": [
    "adver_criterion = nn.BCELoss().to(device)\n",
    "recon_criterion = nn.MSELoss(reduction='sum').to(device)"
   ]
  },
  {
   "cell_type": "code",
   "execution_count": null,
   "metadata": {},
   "outputs": [],
   "source": [
    "D_optimizer = optim.Adam(D.parameters(), lr=0.0002)\n",
    "G_optimizer = optim.Adam(G.parameters(), lr=0.0002)\n",
    "E_optimizer = optim.Adam(E.parameters(), lr=0.0002)"
   ]
  },
  {
   "cell_type": "code",
   "execution_count": null,
   "metadata": {},
   "outputs": [],
   "source": [
    "fixed_latent = (2*torch.rand(64,100,1,1)-1).to(device)\n",
    "outdir = 'cifar10_output'\n",
    "os.makedirs(outdir, exist_ok=True)"
   ]
  },
  {
   "cell_type": "code",
   "execution_count": null,
   "metadata": {},
   "outputs": [],
   "source": [
    "losses = {\n",
    "    'D':[],\n",
    "    'G':[],\n",
    "    'E':[],\n",
    "    'I':[]\n",
    "}"
   ]
  },
  {
   "cell_type": "code",
   "execution_count": null,
   "metadata": {},
   "outputs": [],
   "source": [
    "for epoch in range(200):\n",
    "    for idx, (x, _) in enumerate(dataloader):\n",
    "        batch_size = x.shape[0]\n",
    "        x_real = x.detach().to(device)\n",
    "        \n",
    "        # Train D\n",
    "        D.zero_grad()\n",
    "        \n",
    "        z_real = E(x_real).detach()\n",
    "        z_fake = 2*torch.rand(batch_size, latent_dim, 1, 1).to(device)-1\n",
    "        x_fake = G(z_fake).detach()\n",
    "        \n",
    "        real_pred = D(x_real, z_real)\n",
    "        fake_pred = D(x_fake, z_fake)\n",
    "        \n",
    "        d_real_target = torch.ones(batch_size, 1).to(device)\n",
    "        d_fake_target = torch.zeros(batch_size, 1).to(device)\n",
    "        \n",
    "        D_loss = adver_criterion(fake_pred, d_fake_target) + adver_criterion(real_pred, d_real_target)\n",
    "        D_loss.backward()\n",
    "        D_optimizer.step()\n",
    "        \n",
    "        # Train G\n",
    "        G.zero_grad()\n",
    "        \n",
    "        z_fake = 2*torch.rand(batch_size, latent_dim, 1, 1).to(device)-1\n",
    "        x_fake = G(z_fake)\n",
    "        fake_pred = D(x_fake, z_fake)\n",
    "        g_target = d_real_target.clone()\n",
    "        \n",
    "        G_loss = adver_criterion(fake_pred, g_target)\n",
    "        G_loss.backward()\n",
    "        G_optimizer.step()\n",
    "        \n",
    "        # Train E\n",
    "        E.zero_grad()\n",
    "        \n",
    "        z_real = E(x_real)\n",
    "        real_pred = D(x_real, z_real)\n",
    "        \n",
    "        e_target = torch.ones(batch_size, 1).to(device)\n",
    "        E_loss = adver_criterion(real_pred, e_target)\n",
    "        \n",
    "        E_loss.backward()\n",
    "        E_optimizer.step()\n",
    "        \n",
    "        \n",
    "        # latent identity Loss\n",
    "        E.zero_grad()\n",
    "        G.zero_grad()\n",
    "        \n",
    "        z_real = E(x_real)\n",
    "        x_recon = G(z_real)\n",
    "        z_recon = E(x_recon)\n",
    "    \n",
    "        I_loss = recon_criterion(z_recon, z_real) + recon_criterion(x_recon, x_real)\n",
    "\n",
    "        if idx % 2 == 1:\n",
    "            I_loss.backward(retain_graph=True)\n",
    "            E_optimizer.step()\n",
    "            G_optimizer.step()\n",
    "        \n",
    "        losses['D'].append(D_loss.item())\n",
    "        losses['G'].append(G_loss.item())\n",
    "        losses['E'].append(E_loss.item())\n",
    "        losses['I'].append(I_loss.item())\n",
    "    save_image(G(fixed_latent), f'{outdir}/fixed_{epoch+1}.png')\n",
    "    torch.save(G, f'{outdir}/G_{epoch+1}.pth')\n",
    "    torch.save(D, f'{outdir}/D_{epoch+1}.pth')\n",
    "    torch.save(E, f'{outdir}/E_{epoch+1}.pth')\n",
    "    with open(f'{outdir}/losses.dat', 'wb') as fp:\n",
    "        pickle.dump(losses, fp)"
   ]
  }
 ],
 "metadata": {
  "kernelspec": {
   "display_name": "Python 3",
   "language": "python",
   "name": "python3"
  },
  "language_info": {
   "codemirror_mode": {
    "name": "ipython",
    "version": 3
   },
   "file_extension": ".py",
   "mimetype": "text/x-python",
   "name": "python",
   "nbconvert_exporter": "python",
   "pygments_lexer": "ipython3",
   "version": "3.6.8"
  }
 },
 "nbformat": 4,
 "nbformat_minor": 4
}
