{
 "cells": [
  {
   "cell_type": "code",
   "execution_count": 6,
   "metadata": {},
   "outputs": [],
   "source": [
    "import numpy as np\n",
    "import torch\n",
    "from models import *\n",
    "from inception_score import get_inception_score\n",
    "from torch.utils.data import TensorDataset, DataLoader\n",
    "from torchvision.datasets import MNIST\n",
    "from torchvision.transforms import Compose, ToTensor, Resize, Normalize"
   ]
  },
  {
   "cell_type": "code",
   "execution_count": 2,
   "metadata": {},
   "outputs": [],
   "source": [
    "G_models = ['mnist_dcgan/G_10.pth', 'mnist_bigan/G_10.pth', 'mnist_logan_b/G_10.pth']\n",
    "E_models = ['mnist_dcgan/Epost_1.pth', 'mnist_bigan/Epost_1.pth', 'mnist_logan_b/E_10.pth']"
   ]
  },
  {
   "cell_type": "code",
   "execution_count": 3,
   "metadata": {},
   "outputs": [],
   "source": [
    "num_images = 2000"
   ]
  },
  {
   "cell_type": "code",
   "execution_count": 4,
   "metadata": {},
   "outputs": [],
   "source": [
    "dataset = MNIST(root='.', download=True, transform=Compose([Resize(32), ToTensor(), Normalize((0.5,),(0.5,))]))\n",
    "dataloader = DataLoader(dataset, batch_size=num_images, shuffle=True)"
   ]
  },
  {
   "cell_type": "code",
   "execution_count": 5,
   "metadata": {},
   "outputs": [
    {
     "name": "stdout",
     "output_type": "stream",
     "text": [
      "Calculating Inception Score with 2000 images in 10 splits\n",
      "Inception Score calculation time: 71.542205 s\n",
      "mnist_dcgan/G_10.pth (2.1292377, 0.0758566)\n",
      "Calculating Inception Score with 2000 images in 10 splits\n",
      "Inception Score calculation time: 71.409925 s\n",
      "mnist_bigan/G_10.pth (1.0015687, 0.00012461824)\n",
      "Calculating Inception Score with 2000 images in 10 splits\n",
      "Inception Score calculation time: 71.204535 s\n",
      "mnist_logan_b/G_10.pth (2.002102, 0.06732421)\n"
     ]
    }
   ],
   "source": [
    "for (G_file, E_file) in zip(G_models, E_models):\n",
    "    G = torch.load(G_file).to('cuda:1').eval()\n",
    "    E = torch.load(E_file).to('cuda:1').eval()\n",
    "    \n",
    "    real = next(iter(dataloader))[0]\n",
    "    latents = E(real.to('cuda:1')).detach()\n",
    "    recon = ((G(latents).cpu().detach()+1)*127).squeeze().numpy()\n",
    "    images = np.zeros((num_images, 3, 32, 32))\n",
    "    images[:,0,:,:] = recon.copy()\n",
    "    images[:,1,:,:] = recon.copy()\n",
    "    images[:,2,:,:] = recon.copy()\n",
    "    images = images.astype(np.uint8)\n",
    "    print(G_file, get_inception_score(images))"
   ]
  }
 ],
 "metadata": {
  "kernelspec": {
   "display_name": "Python 3",
   "language": "python",
   "name": "python3"
  },
  "language_info": {
   "codemirror_mode": {
    "name": "ipython",
    "version": 3
   },
   "file_extension": ".py",
   "mimetype": "text/x-python",
   "name": "python",
   "nbconvert_exporter": "python",
   "pygments_lexer": "ipython3",
   "version": "3.6.8"
  }
 },
 "nbformat": 4,
 "nbformat_minor": 4
}
