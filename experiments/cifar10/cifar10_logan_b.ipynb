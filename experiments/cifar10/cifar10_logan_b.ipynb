{
 "cells": [
  {
   "cell_type": "code",
   "execution_count": 1,
   "metadata": {},
   "outputs": [],
   "source": [
    "import os\n",
    "import torch\n",
    "import torch.nn as nn\n",
    "import torch.optim as optim\n",
    "import pickle\n",
    "import numpy as np\n",
    "import matplotlib.pyplot as plt\n",
    "from torch.utils.data import TensorDataset, DataLoader\n",
    "from torchvision.datasets import CIFAR10\n",
    "from torchvision.transforms import Compose, ToTensor, Resize, Normalize\n",
    "from torchvision.utils import save_image"
   ]
  },
  {
   "cell_type": "code",
   "execution_count": 2,
   "metadata": {},
   "outputs": [],
   "source": [
    "from models import *"
   ]
  },
  {
   "cell_type": "code",
   "execution_count": 3,
   "metadata": {},
   "outputs": [
    {
     "data": {
      "text/plain": [
       "<torch._C.Generator at 0x2aab83d83f30>"
      ]
     },
     "execution_count": 3,
     "metadata": {},
     "output_type": "execute_result"
    }
   ],
   "source": [
    "torch.manual_seed(0)"
   ]
  },
  {
   "cell_type": "code",
   "execution_count": 4,
   "metadata": {},
   "outputs": [],
   "source": [
    "device = 'cuda'\n",
    "num_channels, latent_dim = 3, 100"
   ]
  },
  {
   "cell_type": "code",
   "execution_count": 5,
   "metadata": {},
   "outputs": [
    {
     "name": "stdout",
     "output_type": "stream",
     "text": [
      "Files already downloaded and verified\n"
     ]
    }
   ],
   "source": [
    "dataset = CIFAR10(root='.', download=True, transform=Compose([Resize(32), ToTensor(), Normalize((0.5,0.5,0.5),(0.5,0.5,0.5))]))\n",
    "dataloader = DataLoader(dataset, batch_size=256, shuffle=True)"
   ]
  },
  {
   "cell_type": "code",
   "execution_count": 6,
   "metadata": {},
   "outputs": [],
   "source": [
    "G = Generator(nc=num_channels, ld=latent_dim).to(device)\n",
    "D = Discriminator(nc=num_channels, ld=latent_dim).to(device)\n",
    "E = Encoder(nc=num_channels, ld=latent_dim).to(device)"
   ]
  },
  {
   "cell_type": "code",
   "execution_count": 7,
   "metadata": {},
   "outputs": [],
   "source": [
    "adver_criterion = nn.BCELoss().to(device)\n",
    "recon_criterion = nn.L1Loss(reduction='sum').to(device)"
   ]
  },
  {
   "cell_type": "code",
   "execution_count": 8,
   "metadata": {},
   "outputs": [],
   "source": [
    "D_optimizer = optim.Adam(D.parameters(), lr=0.0002)\n",
    "G_optimizer = optim.Adam(G.parameters(), lr=0.0002)\n",
    "E_optimizer = optim.Adam(E.parameters(), lr=0.0002)"
   ]
  },
  {
   "cell_type": "code",
   "execution_count": 9,
   "metadata": {},
   "outputs": [],
   "source": [
    "fixed_latent = (2*torch.rand(64,100,1,1)-1).to(device)\n",
    "outdir = 'cifar10_logan_b'\n",
    "os.makedirs(outdir, exist_ok=True)"
   ]
  },
  {
   "cell_type": "code",
   "execution_count": 10,
   "metadata": {},
   "outputs": [],
   "source": [
    "losses = {\n",
    "    'D':[],\n",
    "    'G':[],\n",
    "    'E':[],\n",
    "    'I':[]\n",
    "}"
   ]
  },
  {
   "cell_type": "code",
   "execution_count": 11,
   "metadata": {},
   "outputs": [
    {
     "name": "stderr",
     "output_type": "stream",
     "text": [
      "/home/sharathramku/.local/lib/python3.7/site-packages/torch/serialization.py:292: UserWarning: Couldn't retrieve source code for container of type Generator. It won't be checked for correctness upon loading.\n",
      "  \"type \" + obj.__name__ + \". It won't be checked \"\n",
      "/home/sharathramku/.local/lib/python3.7/site-packages/torch/serialization.py:292: UserWarning: Couldn't retrieve source code for container of type Sequential. It won't be checked for correctness upon loading.\n",
      "  \"type \" + obj.__name__ + \". It won't be checked \"\n",
      "/home/sharathramku/.local/lib/python3.7/site-packages/torch/serialization.py:292: UserWarning: Couldn't retrieve source code for container of type ConvTranspose2d. It won't be checked for correctness upon loading.\n",
      "  \"type \" + obj.__name__ + \". It won't be checked \"\n",
      "/home/sharathramku/.local/lib/python3.7/site-packages/torch/serialization.py:292: UserWarning: Couldn't retrieve source code for container of type BatchNorm2d. It won't be checked for correctness upon loading.\n",
      "  \"type \" + obj.__name__ + \". It won't be checked \"\n",
      "/home/sharathramku/.local/lib/python3.7/site-packages/torch/serialization.py:292: UserWarning: Couldn't retrieve source code for container of type ReLU. It won't be checked for correctness upon loading.\n",
      "  \"type \" + obj.__name__ + \". It won't be checked \"\n",
      "/home/sharathramku/.local/lib/python3.7/site-packages/torch/serialization.py:292: UserWarning: Couldn't retrieve source code for container of type Tanh. It won't be checked for correctness upon loading.\n",
      "  \"type \" + obj.__name__ + \". It won't be checked \"\n",
      "/home/sharathramku/.local/lib/python3.7/site-packages/torch/serialization.py:292: UserWarning: Couldn't retrieve source code for container of type Discriminator. It won't be checked for correctness upon loading.\n",
      "  \"type \" + obj.__name__ + \". It won't be checked \"\n",
      "/home/sharathramku/.local/lib/python3.7/site-packages/torch/serialization.py:292: UserWarning: Couldn't retrieve source code for container of type Flatten. It won't be checked for correctness upon loading.\n",
      "  \"type \" + obj.__name__ + \". It won't be checked \"\n",
      "/home/sharathramku/.local/lib/python3.7/site-packages/torch/serialization.py:292: UserWarning: Couldn't retrieve source code for container of type LeakyReLU. It won't be checked for correctness upon loading.\n",
      "  \"type \" + obj.__name__ + \". It won't be checked \"\n",
      "/home/sharathramku/.local/lib/python3.7/site-packages/torch/serialization.py:292: UserWarning: Couldn't retrieve source code for container of type Conv2d. It won't be checked for correctness upon loading.\n",
      "  \"type \" + obj.__name__ + \". It won't be checked \"\n",
      "/home/sharathramku/.local/lib/python3.7/site-packages/torch/serialization.py:292: UserWarning: Couldn't retrieve source code for container of type Sigmoid. It won't be checked for correctness upon loading.\n",
      "  \"type \" + obj.__name__ + \". It won't be checked \"\n",
      "/home/sharathramku/.local/lib/python3.7/site-packages/torch/serialization.py:292: UserWarning: Couldn't retrieve source code for container of type Encoder. It won't be checked for correctness upon loading.\n",
      "  \"type \" + obj.__name__ + \". It won't be checked \"\n"
     ]
    }
   ],
   "source": [
    "for epoch in range(200):\n",
    "    for idx, (x, _) in enumerate(dataloader):\n",
    "        batch_size = x.shape[0]\n",
    "        x_real = x.detach().to(device)\n",
    "        \n",
    "        # Train D\n",
    "        D.zero_grad()\n",
    "        \n",
    "        z_real = E(x_real).detach()\n",
    "        z_fake = 2*torch.rand(batch_size, latent_dim, 1, 1).to(device)-1\n",
    "        x_fake = G(z_fake).detach()\n",
    "        \n",
    "        real_pred = D(x_real, z_real)\n",
    "        fake_pred = D(x_fake, z_fake)\n",
    "        \n",
    "        d_real_target = torch.ones(batch_size, 1).to(device)\n",
    "        d_fake_target = torch.zeros(batch_size, 1).to(device)\n",
    "        \n",
    "        D_loss = adver_criterion(fake_pred, d_fake_target) + adver_criterion(real_pred, d_real_target)\n",
    "        D_loss.backward()\n",
    "        D_optimizer.step()\n",
    "        \n",
    "        # Train G\n",
    "        G.zero_grad()\n",
    "        \n",
    "        z_fake = 2*torch.rand(batch_size, latent_dim, 1, 1).to(device)-1\n",
    "        x_fake = G(z_fake)\n",
    "        fake_pred = D(x_fake, z_fake)\n",
    "        \n",
    "        g_target = d_real_target.clone()\n",
    "        G_loss = adver_criterion(fake_pred, g_target)\n",
    "        \n",
    "        G_loss.backward()\n",
    "        G_optimizer.step()\n",
    "        \n",
    "        # Train E\n",
    "        E.zero_grad()\n",
    "        \n",
    "        z_real = E(x_real)\n",
    "        real_pred = D(x_real, z_real)\n",
    "        \n",
    "        e_target = d_fake_target.clone()\n",
    "        E_loss = adver_criterion(real_pred, e_target)\n",
    "        \n",
    "        E_loss.backward()\n",
    "        E_optimizer.step()\n",
    "        \n",
    "        \n",
    "        # latent identity Loss\n",
    "        E.zero_grad()\n",
    "        G.zero_grad()\n",
    "        \n",
    "        z_recon0 = E(x_real)\n",
    "        x_recon1 = G(z_recon0)\n",
    "        z_recon1 = E(x_recon1)\n",
    "        \n",
    "        I_loss = recon_criterion(x_recon1, x_real)\n",
    "        I_loss.backward(retain_graph=True)\n",
    "        E_optimizer.step()\n",
    "        G_optimizer.step()\n",
    "        \n",
    "        losses['D'].append(D_loss.item())\n",
    "        losses['G'].append(G_loss.item())\n",
    "        losses['E'].append(E_loss.item())\n",
    "        losses['I'].append(I_loss.item())\n",
    "        \n",
    "    save_image(G(fixed_latent), f'{outdir}/fixed_{epoch+1}.png')\n",
    "    torch.save(G, f'{outdir}/G_{epoch+1}.pth')\n",
    "    torch.save(D, f'{outdir}/D_{epoch+1}.pth')\n",
    "    torch.save(E, f'{outdir}/E_{epoch+1}.pth')\n",
    "    with open(f'{outdir}/losses.dat', 'wb') as fp:\n",
    "        pickle.dump(losses, fp)"
   ]
  },
  {
   "cell_type": "code",
   "execution_count": 12,
   "metadata": {},
   "outputs": [
    {
     "data": {
      "image/png": "[encoded data removed]",
      "text/plain": [
       "<Figure size 432x288 with 1 Axes>"
      ]
     },
     "metadata": {
      "needs_background": "light"
     },
     "output_type": "display_data"
    }
   ],
   "source": [
    "plt.plot(losses['G'], label='Generator')\n",
    "plt.plot(losses['D'], label='Discriminator')\n",
    "plt.legend()\n",
    "plt.show()"
   ]
  },
  {
   "cell_type": "code",
   "execution_count": 13,
   "metadata": {},
   "outputs": [
    {
     "data": {
      "image/png": "[encoded data removed]",
      "text/plain": [
       "<Figure size 432x288 with 1 Axes>"
      ]
     },
     "metadata": {
      "needs_background": "light"
     },
     "output_type": "display_data"
    }
   ],
   "source": [
    "plt.plot(losses['E'], label='Encoder')\n",
    "plt.legend()\n",
    "plt.show()"
   ]
  },
  {
   "cell_type": "code",
   "execution_count": 14,
   "metadata": {},
   "outputs": [
    {
     "data": {
      "image/png": "[encoded data removed]",
      "text/plain": [
       "<Figure size 432x288 with 1 Axes>"
      ]
     },
     "metadata": {
      "needs_background": "light"
     },
     "output_type": "display_data"
    }
   ],
   "source": [
    "plt.plot(losses['I'], label='Identity')\n",
    "plt.legend()\n",
    "plt.show()"
   ]
  },
  {
   "cell_type": "code",
   "execution_count": 15,
   "metadata": {},
   "outputs": [],
   "source": [
    "numTests = 5\n",
    "_ = G.eval(), E.eval()"
   ]
  },
  {
   "cell_type": "code",
   "execution_count": 16,
   "metadata": {},
   "outputs": [
    {
     "name": "stdout",
     "output_type": "stream",
     "text": [
      "Files already downloaded and verified\n"
     ]
    }
   ],
   "source": [
    "test_dataset = CIFAR10(root='.', download=True, train=False, transform=Compose([Resize(32), ToTensor(), Normalize((0.5,0.5,0.5),(0.5,0.5,0.5))]))\n",
    "test_dataloader = DataLoader(test_dataset, batch_size=256, shuffle=True)"
   ]
  },
  {
   "cell_type": "code",
   "execution_count": 17,
   "metadata": {},
   "outputs": [],
   "source": [
    "ad_losses, post_losses = [], []\n",
    "for test in range(numTests):\n",
    "    torch.manual_seed(100+test)\n",
    "    E_post = Encoder().to(device)\n",
    "    ft_optimizer = optim.Adam(E_post.parameters(), lr=0.0002)\n",
    "    for it in range(5000):\n",
    "        E_post.zero_grad()\n",
    "        z_recon0 = 2*torch.rand(256, latent_dim, 1, 1).to(device)-1\n",
    "        x_recon0 = G(z_recon0)\n",
    "        z_recon1 = E_post(x_recon0)\n",
    "        x_recon1 = G(z_recon1)\n",
    "        ft_loss = recon_criterion(x_recon1, x_recon0) + recon_criterion(z_recon1, z_recon0)\n",
    "        ft_loss.backward(retain_graph=True)\n",
    "        ft_optimizer.step()\n",
    "        \n",
    "    E_post.eval()\n",
    "    torch.save(E_post, f'{outdir}/Epost_{test+1}.pth')\n",
    "\n",
    "    ad_loss, post_loss = 0, 0\n",
    "    for idx, (x, _) in enumerate(test_dataloader):\n",
    "        batch_size = x.shape[0]\n",
    "        x_real = x.detach().to(device)\n",
    "        ad_loss += recon_criterion(G(E(x_real)), x_real).item()\n",
    "        post_loss += recon_criterion(G(E_post(x_real)), x_real).item()\n",
    "    ad_loss, post_loss = ad_loss/len(test_dataset), post_loss/len(test_dataset)\n",
    "    ad_losses.append(ad_loss)\n",
    "    post_losses.append(post_loss)"
   ]
  },
  {
   "cell_type": "code",
   "execution_count": 18,
   "metadata": {},
   "outputs": [
    {
     "name": "stdout",
     "output_type": "stream",
     "text": [
      "(752.0956015234375, 2.790714213126832e-06) (386.52631783203117, 5.942055006156508)\n"
     ]
    }
   ],
   "source": [
    "print((np.mean(ad_losses), np.std(ad_losses)), (np.mean(post_losses), np.std(post_losses)))"
   ]
  }
 ],
 "metadata": {
  "kernelspec": {
   "display_name": "Python 3",
   "language": "python",
   "name": "python3"
  },
  "language_info": {
   "codemirror_mode": {
    "name": "ipython",
    "version": 3
   },
   "file_extension": ".py",
   "mimetype": "text/x-python",
   "name": "python",
   "nbconvert_exporter": "python",
   "pygments_lexer": "ipython3",
   "version": "3.7.0"
  }
 },
 "nbformat": 4,
 "nbformat_minor": 4
}
